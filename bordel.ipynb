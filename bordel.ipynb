{
 "cells": [
  {
   "cell_type": "markdown",
   "metadata": {},
   "source": [
    "# Projet foot\n",
    "### imports"
   ]
  },
  {
   "cell_type": "code",
   "execution_count": 2,
   "metadata": {},
   "outputs": [],
   "source": [
    "import pandas as pd\n",
    "import numpy as np"
   ]
  },
  {
   "cell_type": "markdown",
   "metadata": {},
   "source": [
    "## data\n",
    "load and manage all the data\n",
    "### load data"
   ]
  },
  {
   "cell_type": "code",
   "execution_count": 8,
   "metadata": {},
   "outputs": [
    {
     "name": "stdout",
     "output_type": "stream",
     "text": [
      "   game_id        date  home_club_id  away_club_id home_club_manager_name  \\\n",
      "0  4094596  2023-08-26           583           826           Luis Enrique   \n",
      "1  4094622  2023-09-16           826           347           Franck Haise   \n",
      "2  4094630  2023-09-24           969           273    Michel Der Zakarian   \n",
      "3  4094647  2023-10-07           347           417          László Bölöni   \n",
      "4  4094696  2023-12-03           244           273        Gennaro Gattuso   \n",
      "\n",
      "  away_club_manager_name                 stadium  attendance  \\\n",
      "0           Franck Haise        Parc des Princes     47000.0   \n",
      "1          László Bölöni  Stade Bollaert-Delelis     37988.0   \n",
      "2          Bruno Génésio      Stade de la Mosson     15430.0   \n",
      "3      Francesco Farioli  Stade Saint-Symphorien     23160.0   \n",
      "4         Julien Stéphan        Orange Vélodrome     54162.0   \n",
      "\n",
      "              referee                     home_club_name  \\\n",
      "0   François Letexier  Paris Saint-Germain Football Club   \n",
      "1  Stéphanie Frappart                Racing Club de Lens   \n",
      "2  Stéphanie Frappart     Montpellier Hérault Sport Club   \n",
      "3      Jérôme Brisard              Football Club de Metz   \n",
      "4       Willy Delajod             Olympique de Marseille   \n",
      "\n",
      "                             away_club_name competition_type  \n",
      "0                       Racing Club de Lens  domestic_league  \n",
      "1                     Football Club de Metz  domestic_league  \n",
      "2               Stade Rennais Football Club  domestic_league  \n",
      "3  Olympique Gymnaste Club Nice Côte d'Azur  domestic_league  \n",
      "4               Stade Rennais Football Club  domestic_league  \n"
     ]
    }
   ],
   "source": [
    "dataAPredire = pd.read_csv(\"data\\match_2023.csv\", sep=\",\")\n",
    "print(dataAPredire.head())\n"
   ]
  }
 ],
 "metadata": {
  "kernelspec": {
   "display_name": "Python 3",
   "language": "python",
   "name": "python3"
  },
  "language_info": {
   "codemirror_mode": {
    "name": "ipython",
    "version": 3
   },
   "file_extension": ".py",
   "mimetype": "text/x-python",
   "name": "python",
   "nbconvert_exporter": "python",
   "pygments_lexer": "ipython3",
   "version": "3.11.4"
  }
 },
 "nbformat": 4,
 "nbformat_minor": 2
}
