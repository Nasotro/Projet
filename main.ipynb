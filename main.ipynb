{
 "cells": [
  {
   "cell_type": "markdown",
   "metadata": {},
   "source": [
    "# Projet foot"
   ]
  },
  {
   "cell_type": "code",
   "execution_count": 2,
   "metadata": {},
   "outputs": [],
   "source": [
    "import pandas as pd\n",
    "from sklearn.model_selection import train_test_split\n",
    "from sklearn.preprocessing import StandardScaler\n",
    "from sklearn.ensemble import RandomForestClassifier\n",
    "from sklearn.tree import DecisionTreeClassifier\n",
    "from sklearn.metrics import classification_report, confusion_matrix, accuracy_score\n",
    "from sklearn.metrics import r2_score, f1_score\n",
    "from sklearn.preprocessing import OneHotEncoder, LabelEncoder\n",
    "from sklearn.pipeline import Pipeline\n",
    "from sklearn.impute import SimpleImputer\n",
    "import matplotlib.pyplot as plt\n",
    "import seaborn as sns"
   ]
  },
  {
   "cell_type": "markdown",
   "metadata": {},
   "source": [
    "## data\n",
    "load and process all the data\n",
    "### load data"
   ]
  },
  {
   "cell_type": "code",
   "execution_count": 7,
   "metadata": {},
   "outputs": [],
   "source": [
    "data = pd.read_csv(\"data\\matchs_2013_2022.csv\", sep=\",\")\n",
    "dataAPredire = pd.read_csv(\"data\\match_2023.csv\", sep=\",\")\n",
    "y = data[\"results\"]\n",
    "\n",
    "def remove_categorical():\n",
    "    X = data[dataAPredire.columns].drop(\"date\", axis=1)\n",
    "    \n",
    "    categoricalData = X.select_dtypes(include=['object'])\n",
    "    # categoricalData = categoricalData.drop(columns=[\"date\",\"home_club_name\",\"away_club_name\",\"home_club_manager_name\",\"away_club_manager_name\",\"referee\", \"stadium\"])\n",
    "    # print(f'shape of categorical data: {categoricalData.shape}'),\n",
    "\n",
    "    dataToOHE = pd.DataFrame([])\n",
    "    ohe = OneHotEncoder()\n",
    "    X[dataToOHE.columns] = dataToOHE.apply(ohe.fit_transform)\n",
    "\n",
    "    dataToLabelEncode = categoricalData\n",
    "    le = LabelEncoder()\n",
    "    X[dataToLabelEncode.columns] = dataToLabelEncode.apply(le.fit_transform)\n",
    "\n",
    "    return X\n",
    "\n",
    "def plot_correlation_matrix(data):\n",
    "    correlation_matrix = data.corr()\n",
    "    plt.figure(figsize=(20, 8))\n",
    "    sns.heatmap(correlation_matrix, annot=True, cmap='coolwarm', fmt=\".2f\")\n",
    "    plt.show()\n",
    "\n",
    "def create_model(X, y):\n",
    "    X_train, X_test, y_train, y_test = train_test_split(X, y, test_size=0.2, random_state=42)\n",
    "    \n",
    "    model = RandomForestClassifier()\n",
    "    \n",
    "    max_missing = 0.1 * len(X_train)\n",
    "    missing_values = X.isna().sum()\n",
    "\n",
    "    if all(missing_values < max_missing):\n",
    "        imputer = SimpleImputer(strategy='mean')\n",
    "    else:\n",
    "        imputer = SimpleImputer(strategy='constant', fill_value=0)\n",
    "\n",
    "    pipeline = Pipeline([\n",
    "        ('imputer', imputer),\n",
    "        ('model', model)\n",
    "    ])\n",
    "    \n",
    "    pipeline.fit(X_train, y_train)\n",
    "    return model    \n",
    "\n",
    "def get_accuracy_with_model(model, X_train, X_test, y_train, y_test):\n",
    "    scaler = StandardScaler()\n",
    "    X_train = scaler.fit_transform(X_train)\n",
    "    X_test = scaler.transform(X_test)\n",
    "    \n",
    "    model.fit(X_train, y_train)\n",
    "    y_pred = model.predict(X_test)\n",
    "    return accuracy_score(y_test, y_pred)\n",
    "\n",
    "def test_data(X, y, model=None):\n",
    "    X_train, X_test, y_train, y_test = train_test_split(X, y, test_size=0.2, random_state=42)\n",
    "    if model is None:\n",
    "        model = create_model(X, y)\n",
    "    return get_accuracy_with_model(model, X_train, X_test, y_train, y_test)"
   ]
  },
  {
   "cell_type": "code",
   "execution_count": 9,
   "metadata": {},
   "outputs": [
    {
     "data": {
      "text/plain": [
       "0.5392156862745098"
      ]
     },
     "execution_count": 9,
     "metadata": {},
     "output_type": "execute_result"
    }
   ],
   "source": [
    "from fonctions_tests import add_manager_win_percentage\n",
    "import sklearn.discriminant_analysis as DA\n",
    "\n",
    "add_manager_win_percentage(data)\n",
    "\n",
    "X = data[[\"attendance\", \"home_club_manager_win_percentage\", \"away_club_manager_win_percentage\"]]\n",
    "imputer = SimpleImputer(strategy='mean')\n",
    "X = imputer.fit_transform(X)\n",
    "\n",
    "test_data(X, y, model=DA.LinearDiscriminantAnalysis())"
   ]
  },
  {
   "cell_type": "markdown",
   "metadata": {},
   "source": [
    "### Process data\n",
    "Create different pipeline :"
   ]
  },
  {
   "cell_type": "code",
   "execution_count": 3,
   "metadata": {},
   "outputs": [],
   "source": [
    "# imports\n",
    "\n",
    "from sklearn.pipeline import Pipeline\n",
    "\n",
    "easy_pipeline = Pipeline(steps=[])"
   ]
  },
  {
   "cell_type": "code",
   "execution_count": 4,
   "metadata": {},
   "outputs": [],
   "source": [
    "from sklearn.model_selection import train_test_split\n",
    "# Create splits\n",
    "\n"
   ]
  },
  {
   "cell_type": "markdown",
   "metadata": {},
   "source": [
    "## Model\n",
    "### imports"
   ]
  },
  {
   "cell_type": "code",
   "execution_count": null,
   "metadata": {},
   "outputs": [],
   "source": []
  },
  {
   "cell_type": "markdown",
   "metadata": {},
   "source": [
    "### fit and train model"
   ]
  },
  {
   "cell_type": "markdown",
   "metadata": {},
   "source": [
    "## predict"
   ]
  },
  {
   "cell_type": "code",
   "execution_count": null,
   "metadata": {},
   "outputs": [],
   "source": []
  }
 ],
 "metadata": {
  "kernelspec": {
   "display_name": "Python 3",
   "language": "python",
   "name": "python3"
  },
  "language_info": {
   "codemirror_mode": {
    "name": "ipython",
    "version": 3
   },
   "file_extension": ".py",
   "mimetype": "text/x-python",
   "name": "python",
   "nbconvert_exporter": "python",
   "pygments_lexer": "ipython3",
   "version": "3.9.13"
  }
 },
 "nbformat": 4,
 "nbformat_minor": 2
}
