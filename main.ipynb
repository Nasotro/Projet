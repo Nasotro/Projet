{
 "cells": [
  {
   "cell_type": "markdown",
   "metadata": {},
   "source": [
    "# Projet foot"
   ]
  },
  {
   "cell_type": "code",
   "execution_count": 1,
   "metadata": {},
   "outputs": [],
   "source": [
    "# imports\n",
    "\n",
    "import pandas as pd\n",
    "import numpy as np"
   ]
  },
  {
   "cell_type": "markdown",
   "metadata": {},
   "source": [
    "## data\n",
    "load and process all the data\n",
    "### load data"
   ]
  },
  {
   "cell_type": "code",
   "execution_count": 2,
   "metadata": {},
   "outputs": [
    {
     "name": "stdout",
     "output_type": "stream",
     "text": [
      "   game_id        date  home_club_id  away_club_id home_club_manager_name  \\\n",
      "0  4094596  2023-08-26           583           826           Luis Enrique   \n",
      "1  4094622  2023-09-16           826           347           Franck Haise   \n",
      "2  4094630  2023-09-24           969           273    Michel Der Zakarian   \n",
      "3  4094647  2023-10-07           347           417          László Bölöni   \n",
      "4  4094696  2023-12-03           244           273        Gennaro Gattuso   \n",
      "\n",
      "  away_club_manager_name                 stadium  attendance  \\\n",
      "0           Franck Haise        Parc des Princes     47000.0   \n",
      "1          László Bölöni  Stade Bollaert-Delelis     37988.0   \n",
      "2          Bruno Génésio      Stade de la Mosson     15430.0   \n",
      "3      Francesco Farioli  Stade Saint-Symphorien     23160.0   \n",
      "4         Julien Stéphan        Orange Vélodrome     54162.0   \n",
      "\n",
      "              referee                     home_club_name  \\\n",
      "0   François Letexier  Paris Saint-Germain Football Club   \n",
      "1  Stéphanie Frappart                Racing Club de Lens   \n",
      "2  Stéphanie Frappart     Montpellier Hérault Sport Club   \n",
      "3      Jérôme Brisard              Football Club de Metz   \n",
      "4       Willy Delajod             Olympique de Marseille   \n",
      "\n",
      "                             away_club_name competition_type  \n",
      "0                       Racing Club de Lens  domestic_league  \n",
      "1                     Football Club de Metz  domestic_league  \n",
      "2               Stade Rennais Football Club  domestic_league  \n",
      "3  Olympique Gymnaste Club Nice Côte d'Azur  domestic_league  \n",
      "4               Stade Rennais Football Club  domestic_league  \n",
      "   Unnamed: 0  game_id  season         round        date  home_club_id  \\\n",
      "0          12  2330874    2013   8. Matchday  2013-09-28           618   \n",
      "1          13  2330880    2013  10. Matchday  2013-10-19         14171   \n",
      "2          14  2330916    2013  15. Matchday  2013-11-30          1423   \n",
      "3          15  2331018    2013  21. Matchday  2014-01-18           273   \n",
      "4          16  2331034    2013  24. Matchday  2014-02-08          1147   \n",
      "\n",
      "   away_club_id  home_club_goals  away_club_goals  home_club_position  ...  \\\n",
      "0           595                2                2                 6.0  ...   \n",
      "1           855                1                2                16.0  ...   \n",
      "2          1082                0                1                18.0  ...   \n",
      "3         14171                0                0                15.0  ...   \n",
      "4           273                3                1                20.0  ...   \n",
      "\n",
      "   away_club_manager_name                   stadium attendance  \\\n",
      "0          Frédéric Hantz   Stade Geoffroy-Guichard    31952.0   \n",
      "1      Jocelyn Gourvennec  Parc des Sports d’Annecy     8620.0   \n",
      "2             René Girard          Stade du Hainaut    14874.0   \n",
      "3           Pascal Dupraz              Roazhon Park    13391.0   \n",
      "4      Philippe Montanier       Stade François-Coty     5981.0   \n",
      "\n",
      "             referee  home_club_formation away_club_formation  \\\n",
      "0     Antony Gautier      4-3-3 Attacking             4-2-3-1   \n",
      "1      Philippe Kalt       4-4-2 double 6      4-4-2 double 6   \n",
      "2  Bartolomeu Varela       4-4-2 double 6             4-3-1-2   \n",
      "3      Benoît Millot      4-3-3 Attacking             4-2-3-1   \n",
      "4     Benoît Bastien              4-1-4-1     4-3-3 Defending   \n",
      "\n",
      "                 home_club_name  \\\n",
      "0              AS Saint-Étienne   \n",
      "1  Thonon Évian Grand Genève FC   \n",
      "2               Valenciennes FC   \n",
      "3   Stade Rennais Football Club   \n",
      "4                    AC Ajaccio   \n",
      "\n",
      "                                  away_club_name aggregate competition_type  \n",
      "0                                      SC Bastia       2:2  domestic_league  \n",
      "1                                    EA Guingamp       1:2  domestic_league  \n",
      "2  Lille Olympique Sporting Club Lille Métropole       0:1  domestic_league  \n",
      "3                   Thonon Évian Grand Genève FC       0:0  domestic_league  \n",
      "4                    Stade Rennais Football Club       3:1  domestic_league  \n",
      "\n",
      "[5 rows x 22 columns] 0    0\n",
      "1   -1\n",
      "2   -1\n",
      "3    0\n",
      "4    1\n",
      "Name: results, dtype: int64\n"
     ]
    }
   ],
   "source": [
    "dataAPredire = pd.read_csv(\"data\\match_2023.csv\", sep=\",\")\n",
    "print(dataAPredire.head())\n",
    "\n",
    "data = pd.read_csv(\"data\\matchs_2013_2022.csv\", sep=\",\")\n",
    "Y = data[\"results\"]\n",
    "X = data.drop([\"results\"], axis=1)\n",
    "print(X.head(), Y.head())"
   ]
  },
  {
   "cell_type": "markdown",
   "metadata": {},
   "source": [
    "### Process data\n",
    "Create different pipeline :"
   ]
  },
  {
   "cell_type": "code",
   "execution_count": 3,
   "metadata": {},
   "outputs": [],
   "source": [
    "# imports\n",
    "\n",
    "from sklearn.pipeline import Pipeline\n",
    "\n",
    "easy_pipeline = Pipeline(steps=[])"
   ]
  },
  {
   "cell_type": "code",
   "execution_count": 4,
   "metadata": {},
   "outputs": [],
   "source": [
    "from sklearn.model_selection import train_test_split\n",
    "# Create splits\n",
    "\n"
   ]
  },
  {
   "cell_type": "markdown",
   "metadata": {},
   "source": [
    "## Model\n",
    "### imports"
   ]
  },
  {
   "cell_type": "code",
   "execution_count": null,
   "metadata": {},
   "outputs": [],
   "source": []
  },
  {
   "cell_type": "markdown",
   "metadata": {},
   "source": [
    "### fit and train model"
   ]
  },
  {
   "cell_type": "markdown",
   "metadata": {},
   "source": [
    "## predict"
   ]
  },
  {
   "cell_type": "code",
   "execution_count": null,
   "metadata": {},
   "outputs": [],
   "source": []
  }
 ],
 "metadata": {
  "kernelspec": {
   "display_name": "Python 3",
   "language": "python",
   "name": "python3"
  },
  "language_info": {
   "codemirror_mode": {
    "name": "ipython",
    "version": 3
   },
   "file_extension": ".py",
   "mimetype": "text/x-python",
   "name": "python",
   "nbconvert_exporter": "python",
   "pygments_lexer": "ipython3",
   "version": "3.9.13"
  }
 },
 "nbformat": 4,
 "nbformat_minor": 2
}
