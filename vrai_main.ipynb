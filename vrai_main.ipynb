{
 "cells": [
  {
   "cell_type": "markdown",
   "metadata": {},
   "source": [
    "# Prediction Foot Project\n",
    "Lorrain MORLET - Julien DE VOS\n"
   ]
  },
  {
   "cell_type": "markdown",
   "metadata": {},
   "source": [
    "## Introduction\n",
    "\n",
    "To introduce the prediction soccer contest, we aim to develop an AI model that can predict the outcome of soccer matches. The goal is to analyze historical data and identify patterns that can help us make accurate predictions.\n",
    "\n",
    "The final objective of the project is to predict the outcome of Ligue 1 matches for the 2023-2024 season. To do this, we have access to data on Ligue 1 matches from the 2012-2013 season to the 2022-2023 season.\n",
    "\n",
    "In this test, we will use some dataset containing information about various soccer matches, including team statistics, player performance, player appearance. Our objective is to train a machine learning model that can classify the result of a match as a win, loss, or draw.\n",
    "\n",
    "By leveraging advanced algorithms and techniques, we can build a robust AI model that takes into account various factors such as team form, player stats, home advantage, and previous head-to-head records. This model will enable us to make informed predictions and gain valuable insights into the dynamics of soccer matches.\n",
    "\n",
    "Let's dive into the exciting world of soccer matches prediction and unleash the power of AI in the realm of sports analytics!"
   ]
  },
  {
   "cell_type": "markdown",
   "metadata": {},
   "source": [
    "## Imports"
   ]
  },
  {
   "cell_type": "code",
   "execution_count": 1,
   "metadata": {},
   "outputs": [],
   "source": [
    "# all the necessary imports for the project\n",
    "\n",
    "import pandas as pd\n",
    "import numpy as np\n",
    "\n",
    "from sklearn.model_selection import train_test_split\n",
    "from sklearn.preprocessing import StandardScaler\n",
    "from sklearn.impute import SimpleImputer\n",
    "from sklearn.ensemble import RandomForestClassifier\n",
    "from sklearn.tree import DecisionTreeClassifier\n",
    "from sklearn.metrics import accuracy_score\n",
    "from sklearn.pipeline import Pipeline\n",
    "from sklearn.metrics import classification_report, confusion_matrix\n",
    "\n",
    "import sklearn.discriminant_analysis as DA\n",
    "from sklearn.naive_bayes import GaussianNB\n",
    "from sklearn.neighbors import KNeighborsClassifier\n",
    "from sklearn.linear_model import LogisticRegression\n",
    "from sklearn.svm import SVC, SVR\n",
    "\n",
    "import matplotlib.pyplot as plt\n",
    "\n",
    "import warnings"
   ]
  },
  {
   "cell_type": "markdown",
   "metadata": {},
   "source": [
    "## Data Exploration"
   ]
  },
  {
   "cell_type": "markdown",
   "metadata": {},
   "source": [
    "The first thing we do is importing the file `matchs_2013_2022.csv`, which contains the list of all the Ligue 1 matchs from 2012-2013 season to 2022-2023 season, with the results."
   ]
  },
  {
   "cell_type": "code",
   "execution_count": null,
   "metadata": {},
   "outputs": [],
   "source": [
    "data = pd.read_csv(\"./data/matchs_2013_2022.csv\")\n",
    "data.head()"
   ]
  },
  {
   "cell_type": "markdown",
   "metadata": {},
   "source": [
    "## Feature Engineering"
   ]
  },
  {
   "cell_type": "markdown",
   "metadata": {},
   "source": [
    "Given that the aim of the model is to predict results for the 2023-2024 season on the basis of previous seasons. To estimate the effectiveness of our model, we will make predictions for the 2022-2023 season by training it on all the previous seasons."
   ]
  },
  {
   "cell_type": "code",
   "execution_count": 3,
   "metadata": {},
   "outputs": [],
   "source": [
    "features = [\"attendance\"] # List of features we will keep for the training\n",
    "limit_date = '2024' # 2022-08-05 is the date of the first match of the 2022-2023 season"
   ]
  },
  {
   "cell_type": "markdown",
   "metadata": {},
   "source": [
    "The first feature we will add is the win percentage of each team depending on whether they are playing at home or away."
   ]
  },
  {
   "cell_type": "code",
   "execution_count": 4,
   "metadata": {},
   "outputs": [],
   "source": [
    "def get_club_win_percentage(data:pd.DataFrame, limit_date:str)->None:\n",
    "    for index, row in data.iterrows():\n",
    "        # Home club win percentage at home\n",
    "        home_club_id = row['home_club_id']\n",
    "        matches_won_at_home = data[(data['home_club_id'] == home_club_id) & (data['date'] < limit_date)]['results'].value_counts().get(1, 0)\n",
    "        total_matches_at_home = data[(data['home_club_id'] == home_club_id) & (data['date'] < limit_date)].shape[0]\n",
    "\n",
    "        ratio = matches_won_at_home / total_matches_at_home if total_matches_at_home != 0 else np.nan\n",
    "        \n",
    "        # Update the row\n",
    "        data.at[index, 'home_club_win_percentage'] = ratio\n",
    "\n",
    "        # Away club win percentage away from home\n",
    "        away_club_id = row['away_club_id']\n",
    "        matches_won_away = data[(data['away_club_id'] == away_club_id) & (data['date'] < limit_date)]['results'].value_counts().get(-1, 0)\n",
    "        total_matches_away = data[(data['away_club_id'] == away_club_id) & (data['date'] < limit_date)].shape[0]\n",
    "        \n",
    "        ratio = matches_won_away / total_matches_away if total_matches_away != 0 else np.nan\n",
    "\n",
    "        # Update the row\n",
    "        data.at[index, 'away_club_win_percentage'] = ratio"
   ]
  },
  {
   "cell_type": "code",
   "execution_count": 5,
   "metadata": {},
   "outputs": [],
   "source": [
    "get_club_win_percentage(data, limit_date)\n",
    "\n",
    "features.append('home_club_win_percentage')\n",
    "features.append('away_club_win_percentage')"
   ]
  },
  {
   "cell_type": "markdown",
   "metadata": {},
   "source": [
    "The next feature we will add is the win percentage of the manager of each team depending on whether they are playing at home or away."
   ]
  },
  {
   "cell_type": "code",
   "execution_count": 6,
   "metadata": {},
   "outputs": [],
   "source": [
    "def get_win_percentage_of_manager(data:pd.DataFrame, limit_date:str)->None:\n",
    "    for index, row in data.iterrows():\n",
    "        # Home club manager win percentage at home\n",
    "        home_club_manager_name = row['home_club_manager_name']\n",
    "        matches_won_at_home = data[(data['home_club_manager_name'] == home_club_manager_name) & (data['date'] < limit_date)]['results'].value_counts().get(1, 0)\n",
    "        total_matches_at_home = data[(data['home_club_manager_name'] == home_club_manager_name) & (data['date'] < limit_date)].shape[0]\n",
    "\n",
    "        ratio = matches_won_at_home / total_matches_at_home if total_matches_at_home != 0 else np.nan\n",
    "        \n",
    "        # Update the row\n",
    "        data.at[index, 'home_club_manager_win_percentage'] = ratio\n",
    "\n",
    "        # Away club manager win percentage away from home\n",
    "        away_club_manager_name = row['away_club_manager_name']\n",
    "        matches_won_away = data[(data['away_club_manager_name'] == away_club_manager_name) & (data['date'] < limit_date)]['results'].value_counts().get(-1, 0)\n",
    "        total_matches_away = data[(data['away_club_manager_name'] == away_club_manager_name) & (data['date'] < limit_date)].shape[0]\n",
    "\n",
    "        ratio = matches_won_away / total_matches_away if total_matches_away != 0 else np.nan\n",
    "\n",
    "        # Update the row\n",
    "        data.at[index, 'away_club_manager_win_percentage'] = ratio"
   ]
  },
  {
   "cell_type": "code",
   "execution_count": 7,
   "metadata": {},
   "outputs": [],
   "source": [
    "get_win_percentage_of_manager(data, limit_date)\n",
    "\n",
    "features.append('home_club_manager_win_percentage')\n",
    "features.append('away_club_manager_win_percentage')"
   ]
  },
  {
   "cell_type": "markdown",
   "metadata": {},
   "source": [
    "Now, we will add the win percentage of the club when they play a match with this referee"
   ]
  },
  {
   "cell_type": "code",
   "execution_count": 8,
   "metadata": {},
   "outputs": [],
   "source": [
    "def get_club_win_percentage_with_referee(data:pd.DataFrame, limit_date:str)->None:\n",
    "    for index, row in data.iterrows():\n",
    "        home_club_name = row['home_club_name']\n",
    "        away_club_name = row['away_club_name']\n",
    "        referee = row['referee']\n",
    "\n",
    "        # Home club win percentage with this referee (at home or away)\n",
    "        matches_won_with_referee = data[(data['home_club_name'] == home_club_name) & (data['referee'] == referee) & (data['date'] < limit_date)]['results'].value_counts().get(1, 0)\n",
    "        total_matches_with_referee = data[(data['home_club_name'] == home_club_name) & (data['referee'] == referee) & (data['date'] < limit_date)].shape[0]\n",
    "\n",
    "        matches_won_with_referee += data[(data['away_club_name'] == home_club_name) & (data['referee'] == referee) & (data['date'] < limit_date)]['results'].value_counts().get(-1, 0)\n",
    "        total_matches_with_referee += data[(data['away_club_name'] == home_club_name) & (data['referee'] == referee) & (data['date'] < limit_date)].shape[0]\n",
    "\n",
    "        ratio = matches_won_with_referee / total_matches_with_referee if total_matches_with_referee != 0 else np.nan\n",
    "\n",
    "        # Update the row\n",
    "        data.at[index, 'home_club_win_percentage_with_referee'] = ratio\n",
    "\n",
    "        # Away club win percentage with this referee (at home or away)\n",
    "        matches_won_with_referee = data[(data['home_club_name'] == away_club_name) & (data['referee'] == referee) & (data['date'] < limit_date)]['results'].value_counts().get(1, 0)\n",
    "        total_matches_with_referee = data[(data['home_club_name'] == away_club_name) & (data['referee'] == referee) & (data['date'] < limit_date)].shape[0]\n",
    "\n",
    "        matches_won_with_referee += data[(data['away_club_name'] == away_club_name) & (data['referee'] == referee) & (data['date'] < limit_date)]['results'].value_counts().get(-1, 0)\n",
    "        total_matches_with_referee += data[(data['away_club_name'] == away_club_name) & (data['referee'] == referee) & (data['date'] < limit_date)].shape[0]\n",
    "\n",
    "        ratio = matches_won_with_referee / total_matches_with_referee if total_matches_with_referee != 0 else np.nan\n",
    "        \n",
    "        # Update the row\n",
    "        data.at[index, 'away_club_win_percentage_with_referee'] = ratio"
   ]
  },
  {
   "cell_type": "code",
   "execution_count": 9,
   "metadata": {},
   "outputs": [],
   "source": [
    "get_club_win_percentage_with_referee(data, limit_date)\n",
    "\n",
    "features.append('home_club_win_percentage_with_referee')\n",
    "features.append('away_club_win_percentage_with_referee')"
   ]
  },
  {
   "cell_type": "code",
   "execution_count": 10,
   "metadata": {},
   "outputs": [],
   "source": [
    "# These variables are used as global variables to avoid reading the same file multiple times\n",
    "playerValuation = None\n",
    "teamComps = None\n",
    "\n",
    "def concatLists(liste:list[list[list]]) -> list[list]:\n",
    "    return list(set([item for sublist in liste for item in sublist]))\n",
    "\n",
    "def get_score_player(id:int, limit_date:str) -> float:\n",
    "    global playerValuation\n",
    "    playerValuation = pd.read_csv(\"data\\player_valuation_before_season.csv\", sep=\",\") if playerValuation is None else playerValuation\n",
    "    player = playerValuation[(playerValuation[\"player_id\"] == id) & (playerValuation[\"date\"] < limit_date)][\"market_value_in_eur\"].apply(lambda x: x/1e6)\n",
    "    return player.mean() if len(player) > 0 else 0\n",
    "\n",
    "def get_score_team(team:int, limit_date:str) -> list:\n",
    "    global teamComps\n",
    "    if(teamComps is None):\n",
    "        lineups = pd.read_csv(\"data\\game_lineups.csv\", sep=\",\")\n",
    "        teamComps = lineups.groupby(['club_id'])['player_id'].apply(list).reset_index()\n",
    "        # print(teamComps)\n",
    "        teamComps = teamComps.groupby(['club_id'])['player_id'].apply(list).apply(concatLists).reset_index()\n",
    "        teamComps[\"score\"] = teamComps[\"player_id\"].apply(lambda x: sum([get_score_player(i, limit_date) for i in x]))\n",
    "        \n",
    "    return teamComps[teamComps[\"club_id\"] == team][\"score\"].values[0]\n",
    "\n",
    "def add_club_scores(X:pd.DataFrame, limit_date:str) -> None:   \n",
    "    X[\"score_away_team\"] = X[\"away_club_id\"].apply(lambda team: get_score_team(team, limit_date))\n",
    "    X[\"score_home_team\"] = X[\"home_club_id\"].apply(lambda team: get_score_team(team, limit_date))\n"
   ]
  },
  {
   "cell_type": "code",
   "execution_count": null,
   "metadata": {},
   "outputs": [],
   "source": [
    "add_club_scores(data, limit_date)\n",
    "\n",
    "features.append('score_away_team')\n",
    "features.append('score_home_team')"
   ]
  },
  {
   "cell_type": "code",
   "execution_count": 12,
   "metadata": {},
   "outputs": [],
   "source": [
    "# We use a global variable to avoid reading the same file multiple times\n",
    "dataTeams = None\n",
    "\n",
    "def convert_string_to_thousands(s)->float:\n",
    "    # Remove the ? sign\n",
    "    # get the sign of the value\n",
    "    sign = 1 if s[0] != '-' else -1\n",
    "    s = s.replace('-', '').replace('+', '')\n",
    "    s = s[1:] if s[0] not in \"1234567890\" else s\n",
    "    # print(\"process :\", s)\n",
    "    value = float(s[:-1] if len(s) > 1 else 0)\n",
    "    multiplier = {'k': 1, 'm': 1000}.get(s[-1:], 1)\n",
    "    # Return the numeric value multiplied by the multiplier\n",
    "    return value * multiplier * sign\n",
    "\n",
    "def add_price_players(data:pd.DataFrame)->None:\n",
    "    global dataTeams\n",
    "    if(dataTeams is None):\n",
    "        dataTeams = pd.read_csv(\"data\\clubs_fr.csv\", sep=\",\")\n",
    "        \n",
    "    dataTeams[\"transfer_num\"] = dataTeams[\"net_transfer_record\"].apply(convert_string_to_thousands)\n",
    "    \n",
    "    dataTemp = data.merge(dataTeams[['club_id', 'transfer_num']],\n",
    "                                    left_on='home_club_id',\n",
    "                                    right_on='club_id',\n",
    "                                    how='left')#.rename(columns={'transfer_num': 'transfer_home_team'})\n",
    "    data[\"transfer_home_team\"] = dataTemp[\"transfer_num\"]\n",
    "    dataTemp = data.merge(dataTeams[['club_id', 'transfer_num']],\n",
    "                                    left_on='away_club_id',\n",
    "                                    right_on='club_id',\n",
    "                                    how='left')#.rename(columns={'transfer_num': 'transfer_away_team'})\n",
    "    data[\"transfer_away_team\"] = dataTemp[\"transfer_num\"]"
   ]
  },
  {
   "cell_type": "code",
   "execution_count": 13,
   "metadata": {},
   "outputs": [],
   "source": [
    "add_price_players(data)\n",
    "\n",
    "features.append('transfer_home_team')\n",
    "features.append('transfer_away_team')"
   ]
  },
  {
   "cell_type": "code",
   "execution_count": 14,
   "metadata": {},
   "outputs": [],
   "source": [
    "teams_stats_updated = {}\n",
    "stats_players = None\n",
    "playerAppearances = None\n",
    "\n",
    "def get_stats_all_players():\n",
    "    global playerAppearances\n",
    "    if(playerAppearances is None):\n",
    "        playerAppearances = pd.read_csv(\"data\\player_appearance.csv\", sep=\",\")\n",
    "    \n",
    "    player_stats = playerAppearances.groupby('player_id').agg({\n",
    "        'goals': ['mean', 'sum'],\n",
    "        'assists': ['mean', 'sum'],\n",
    "        'minutes_played': 'mean',\n",
    "        'yellow_cards': ['mean', 'sum'],\n",
    "        'red_cards': ['mean', 'sum'],\n",
    "        'appearance_id': 'count'\n",
    "    }).rename(columns={\n",
    "        'goals': 'avg_goals_per_game total_goals',\n",
    "        'assists': 'avg_assists_per_game total_assists',\n",
    "        'minutes_played': 'avg_minutes_played_per_game',\n",
    "        'yellow_cards': 'avg_yellow_cards_per_game total_yellow_cards',\n",
    "        'red_cards': 'avg_red_cards_per_game total_red_cards',\n",
    "        'appearance_id': 'total_games'\n",
    "    })\n",
    "    \n",
    "    player_stats.columns = [col[0] for col in player_stats.columns.to_flat_index()]\n",
    "    \n",
    "    column_parts = [col.split() for col in player_stats.columns]\n",
    "    new_column_names = []\n",
    "    for i, parts in enumerate(column_parts):\n",
    "        if (i > 0 and parts[0] == column_parts[i-1][0]):\n",
    "            new_column_names.append(parts[1] if (len(parts) > 1) else parts[0])\n",
    "        else:\n",
    "            new_column_names.append(parts[0])\n",
    "    player_stats.columns = new_column_names\n",
    "    \n",
    "    return player_stats\n",
    "\n",
    "def get_list_players(team_id, limit_date:str = None):\n",
    "    global playerAppearances\n",
    "    if(playerAppearances is None):\n",
    "        playerAppearances = pd.read_csv(\"data\\player_appearance.csv\", sep=\",\")\n",
    "    \n",
    "    players_ids = playerAppearances[(playerAppearances[\"player_current_club_id\"] == team_id) & (playerAppearances['date'] < limit_date)][\"player_id\"]\n",
    "    players_ids = players_ids.drop_duplicates()\n",
    "    return list(players_ids)\n",
    "\n",
    "def get_players_team_stats(team_id:str, limit_date:str):\n",
    "    global stats_players\n",
    "    if(stats_players is None):\n",
    "        stats_players = get_stats_all_players()\n",
    "    \n",
    "    players_ids = get_list_players(team_id, limit_date)\n",
    "    # print(f'players_ids : {players_ids}')\n",
    "    return stats_players[stats_players.index.isin(players_ids)]\n",
    "\n",
    "def exp_log_fn(x, num_games):\n",
    "        return np.exp(x * np.log(num_games)) * 100\n",
    "\n",
    "def get_players_team_stats_updated(team_id:str, limit_date:str):\n",
    "    global teams_stats_updated\n",
    "    if(team_id in teams_stats_updated):\n",
    "        return teams_stats_updated[team_id]\n",
    "    stats_players = get_players_team_stats(team_id, limit_date)\n",
    "    \n",
    "    columns = [\"avg_goals_per_game\", \"avg_assists_per_game\",\"avg_yellow_cards_per_game\",\"avg_red_cards_per_game\"]\n",
    "    updated_columns = [f\"{col}_updated\" for col in columns]\n",
    "    stats_players[[f\"{col}_updated\" for col in columns]] = stats_players[columns].apply(exp_log_fn, args = (stats_players[\"total_games\"], ))\n",
    "    stats_players.drop(columns=[\"avg_minutes_played_per_game\"])\n",
    "    teams_stats_updated[team_id] = stats_players\n",
    "    return stats_players\n",
    "\n",
    "def get_updated_stats_players_team_mean(team_id:str, limit_date:str):\n",
    "    stats_players = get_players_team_stats_updated(team_id, limit_date)\n",
    "    # print(stats_players)\n",
    "    columns = [\"avg_goals_per_game\", \"avg_assists_per_game\",\"avg_yellow_cards_per_game\",\"avg_red_cards_per_game\"]\n",
    "    # print(stats_players.columns)\n",
    "    return stats_players[[f\"{col}_updated\" for col in columns]].mean() \n",
    "\n",
    "def add_updated_stats_players_team_mean(X:pd.DataFrame, limit_date:str):\n",
    "    columns = [\"avg_goals_per_game\", \"avg_assists_per_game\",\"avg_yellow_cards_per_game\",\"avg_red_cards_per_game\"]\n",
    "    X[[f\"home_club_{col}_updated\" for col in columns]] = X[\"home_club_id\"].apply(lambda team: get_updated_stats_players_team_mean(team, limit_date))\n",
    "    X[[f\"away_club_{col}_updated\" for col in columns]] = X[\"away_club_id\"].apply(lambda team: get_updated_stats_players_team_mean(team, limit_date))\n",
    "    # X[\"away_team_players_stats_updated\"] = X[\"away_club_id\"].apply(get_updated_stats_players_team_mean)"
   ]
  },
  {
   "cell_type": "code",
   "execution_count": null,
   "metadata": {},
   "outputs": [],
   "source": [
    "add_updated_stats_players_team_mean(data, limit_date)\n",
    "\n",
    "for club in [\"home_club\", \"away_club\"]:\n",
    "    features.append(f'{club}_avg_goals_per_game_updated')\n",
    "    features.append(f'{club}_avg_assists_per_game_updated')\n",
    "    features.append(f'{club}_avg_yellow_cards_per_game_updated')\n",
    "    features.append(f'{club}_avg_red_cards_per_game_updated')"
   ]
  },
  {
   "cell_type": "code",
   "execution_count": null,
   "metadata": {},
   "outputs": [],
   "source": [
    "print(data.columns)\n",
    "data.head()"
   ]
  },
  {
   "cell_type": "code",
   "execution_count": null,
   "metadata": {},
   "outputs": [],
   "source": [
    "data = data[features + ['date', 'results']]\n",
    "\n",
    "X_train = data[data['date'] < limit_date]\n",
    "X_test = data[data['date'] >= limit_date]\n",
    "y_train = X_train['results']\n",
    "y_test = X_test['results']\n",
    "\n",
    "X_train.drop(['date', 'results'], axis=1, inplace=True)\n",
    "X_test.drop(['date', 'results'], axis=1, inplace=True)\n",
    "\n",
    "X_train.head()"
   ]
  },
  {
   "cell_type": "markdown",
   "metadata": {},
   "source": [
    "## Transformer Class definition"
   ]
  },
  {
   "cell_type": "code",
   "execution_count": 30,
   "metadata": {},
   "outputs": [],
   "source": [
    "class SoccerDataTransformer:\n",
    "    def __init__(self, data_path, limit_date):\n",
    "        self.data_path = data_path\n",
    "        self.limit_date = limit_date\n",
    "        self.data = self.load_data()\n",
    "        self.features = ['attendance']\n",
    "\n",
    "    def load_data(self):\n",
    "        return pd.read_csv(self.data_path)\n",
    "\n",
    "    def add_club_win_percentage(self):\n",
    "        # Implementation of the function from the notebook goes here\n",
    "        self.features.append('home_club_win_percentage')\n",
    "        self.features.append('away_club_win_percentage')\n",
    "\n",
    "    def add_win_percentage_of_manager(self):\n",
    "        # Implementation of the function from the notebook goes here\n",
    "        self.features.append('home_club_manager_win_percentage')\n",
    "        self.features.append('away_club_manager_win_percentage')\n",
    "\n",
    "    def add_club_win_percentage_with_referee(self):\n",
    "        # Implementation of the function from the notebook goes here\n",
    "        self.features.append('home_club_win_percentage_with_referee')\n",
    "        self.features.append('away_club_win_percentage_with_referee')\n",
    "\n",
    "    def add_club_scores(self):\n",
    "        # Implementation of the function from the notebook goes here\n",
    "        self.features.append('score_away_team')\n",
    "        self.features.append('score_home_team')\n",
    "\n",
    "    def add_price_players(self):\n",
    "        # Implementation of the function from the notebook goes here\n",
    "        self.features.append('transfer_home_team')\n",
    "        self.features.append('transfer_away_team')\n",
    "\n",
    "    def add_updated_stats_players_team_mean(self):\n",
    "        # Implementation of the function from the notebook goes here\n",
    "        for club in ['home_club', 'away_club']:\n",
    "            self.features.append(f'{club}_avg_goals_per_game_updated')\n",
    "            self.features.append(f'{club}_avg_assists_per_game_updated')\n",
    "            self.features.append(f'{club}_avg_yellow_cards_per_game_updated')\n",
    "            self.features.append(f'{club}_avg_red_cards_per_game_updated')\n",
    "\n",
    "    def transform_data(self):\n",
    "        self.add_club_win_percentage()\n",
    "        self.add_win_percentage_of_manager()\n",
    "        self.add_club_win_percentage_with_referee()\n",
    "        self.add_club_scores()\n",
    "        self.add_price_players()\n",
    "        self.add_updated_stats_players_team_mean()\n",
    "        self.data = self.data[self.features + ['date', 'results']]\n",
    "        self.X_train = self.data[self.data['date'] < self.limit_date]\n",
    "        self.X_test = self.data[self.data['date'] >= self.limit_date]\n",
    "        self.y_train = self.X_train['results']\n",
    "        self.y_test = self.X_test['results']\n",
    "        self.X_train.drop(['date', 'results'], axis=1, inplace=True)\n",
    "        self.X_test.drop(['date', 'results'], axis=1, inplace=True)\n",
    "        return self.X_train, self.X_test, self.y_train, self.y_test"
   ]
  },
  {
   "cell_type": "code",
   "execution_count": 31,
   "metadata": {},
   "outputs": [
    {
     "ename": "KeyError",
     "evalue": "\"['home_club_win_percentage', 'away_club_win_percentage', 'home_club_manager_win_percentage', 'away_club_manager_win_percentage', 'home_club_win_percentage_with_referee', 'away_club_win_percentage_with_referee', 'score_away_team', 'score_home_team', 'transfer_home_team', 'transfer_away_team', 'home_club_avg_goals_per_game_updated', 'home_club_avg_assists_per_game_updated', 'home_club_avg_yellow_cards_per_game_updated', 'home_club_avg_red_cards_per_game_updated', 'away_club_avg_goals_per_game_updated', 'away_club_avg_assists_per_game_updated', 'away_club_avg_yellow_cards_per_game_updated', 'away_club_avg_red_cards_per_game_updated'] not in index\"",
     "output_type": "error",
     "traceback": [
      "\u001b[1;31m---------------------------------------------------------------------------\u001b[0m",
      "\u001b[1;31mKeyError\u001b[0m                                  Traceback (most recent call last)",
      "Cell \u001b[1;32mIn[31], line 2\u001b[0m\n\u001b[0;32m      1\u001b[0m transformer \u001b[38;5;241m=\u001b[39m SoccerDataTransformer(data_path\u001b[38;5;241m=\u001b[39m\u001b[38;5;124m\"\u001b[39m\u001b[38;5;124m./data/matchs_2013_2022.csv\u001b[39m\u001b[38;5;124m\"\u001b[39m, limit_date\u001b[38;5;241m=\u001b[39m\u001b[38;5;124m'\u001b[39m\u001b[38;5;124m2024\u001b[39m\u001b[38;5;124m'\u001b[39m)\n\u001b[1;32m----> 2\u001b[0m new_data \u001b[38;5;241m=\u001b[39m \u001b[43mtransformer\u001b[49m\u001b[38;5;241;43m.\u001b[39;49m\u001b[43mtransform_data\u001b[49m\u001b[43m(\u001b[49m\u001b[43m)\u001b[49m\n\u001b[0;32m      3\u001b[0m new_data\u001b[38;5;241m.\u001b[39mhead()\n",
      "Cell \u001b[1;32mIn[30], line 51\u001b[0m, in \u001b[0;36mSoccerDataTransformer.transform_data\u001b[1;34m(self)\u001b[0m\n\u001b[0;32m     49\u001b[0m \u001b[38;5;28mself\u001b[39m\u001b[38;5;241m.\u001b[39madd_price_players()\n\u001b[0;32m     50\u001b[0m \u001b[38;5;28mself\u001b[39m\u001b[38;5;241m.\u001b[39madd_updated_stats_players_team_mean()\n\u001b[1;32m---> 51\u001b[0m \u001b[38;5;28mself\u001b[39m\u001b[38;5;241m.\u001b[39mdata \u001b[38;5;241m=\u001b[39m \u001b[38;5;28;43mself\u001b[39;49m\u001b[38;5;241;43m.\u001b[39;49m\u001b[43mdata\u001b[49m\u001b[43m[\u001b[49m\u001b[38;5;28;43mself\u001b[39;49m\u001b[38;5;241;43m.\u001b[39;49m\u001b[43mfeatures\u001b[49m\u001b[43m \u001b[49m\u001b[38;5;241;43m+\u001b[39;49m\u001b[43m \u001b[49m\u001b[43m[\u001b[49m\u001b[38;5;124;43m'\u001b[39;49m\u001b[38;5;124;43mdate\u001b[39;49m\u001b[38;5;124;43m'\u001b[39;49m\u001b[43m,\u001b[49m\u001b[43m \u001b[49m\u001b[38;5;124;43m'\u001b[39;49m\u001b[38;5;124;43mresults\u001b[39;49m\u001b[38;5;124;43m'\u001b[39;49m\u001b[43m]\u001b[49m\u001b[43m]\u001b[49m\n\u001b[0;32m     52\u001b[0m \u001b[38;5;28mself\u001b[39m\u001b[38;5;241m.\u001b[39mX_train \u001b[38;5;241m=\u001b[39m \u001b[38;5;28mself\u001b[39m\u001b[38;5;241m.\u001b[39mdata[\u001b[38;5;28mself\u001b[39m\u001b[38;5;241m.\u001b[39mdata[\u001b[38;5;124m'\u001b[39m\u001b[38;5;124mdate\u001b[39m\u001b[38;5;124m'\u001b[39m] \u001b[38;5;241m<\u001b[39m \u001b[38;5;28mself\u001b[39m\u001b[38;5;241m.\u001b[39mlimit_date]\n\u001b[0;32m     53\u001b[0m \u001b[38;5;28mself\u001b[39m\u001b[38;5;241m.\u001b[39mX_test \u001b[38;5;241m=\u001b[39m \u001b[38;5;28mself\u001b[39m\u001b[38;5;241m.\u001b[39mdata[\u001b[38;5;28mself\u001b[39m\u001b[38;5;241m.\u001b[39mdata[\u001b[38;5;124m'\u001b[39m\u001b[38;5;124mdate\u001b[39m\u001b[38;5;124m'\u001b[39m] \u001b[38;5;241m>\u001b[39m\u001b[38;5;241m=\u001b[39m \u001b[38;5;28mself\u001b[39m\u001b[38;5;241m.\u001b[39mlimit_date]\n",
      "File \u001b[1;32mc:\\Users\\lorra\\AppData\\Local\\Programs\\Python\\Python311\\Lib\\site-packages\\pandas\\core\\frame.py:3902\u001b[0m, in \u001b[0;36mDataFrame.__getitem__\u001b[1;34m(self, key)\u001b[0m\n\u001b[0;32m   3900\u001b[0m     \u001b[38;5;28;01mif\u001b[39;00m is_iterator(key):\n\u001b[0;32m   3901\u001b[0m         key \u001b[38;5;241m=\u001b[39m \u001b[38;5;28mlist\u001b[39m(key)\n\u001b[1;32m-> 3902\u001b[0m     indexer \u001b[38;5;241m=\u001b[39m \u001b[38;5;28;43mself\u001b[39;49m\u001b[38;5;241;43m.\u001b[39;49m\u001b[43mcolumns\u001b[49m\u001b[38;5;241;43m.\u001b[39;49m\u001b[43m_get_indexer_strict\u001b[49m\u001b[43m(\u001b[49m\u001b[43mkey\u001b[49m\u001b[43m,\u001b[49m\u001b[43m \u001b[49m\u001b[38;5;124;43m\"\u001b[39;49m\u001b[38;5;124;43mcolumns\u001b[39;49m\u001b[38;5;124;43m\"\u001b[39;49m\u001b[43m)\u001b[49m[\u001b[38;5;241m1\u001b[39m]\n\u001b[0;32m   3904\u001b[0m \u001b[38;5;66;03m# take() does not accept boolean indexers\u001b[39;00m\n\u001b[0;32m   3905\u001b[0m \u001b[38;5;28;01mif\u001b[39;00m \u001b[38;5;28mgetattr\u001b[39m(indexer, \u001b[38;5;124m\"\u001b[39m\u001b[38;5;124mdtype\u001b[39m\u001b[38;5;124m\"\u001b[39m, \u001b[38;5;28;01mNone\u001b[39;00m) \u001b[38;5;241m==\u001b[39m \u001b[38;5;28mbool\u001b[39m:\n",
      "File \u001b[1;32mc:\\Users\\lorra\\AppData\\Local\\Programs\\Python\\Python311\\Lib\\site-packages\\pandas\\core\\indexes\\base.py:6114\u001b[0m, in \u001b[0;36mIndex._get_indexer_strict\u001b[1;34m(self, key, axis_name)\u001b[0m\n\u001b[0;32m   6111\u001b[0m \u001b[38;5;28;01melse\u001b[39;00m:\n\u001b[0;32m   6112\u001b[0m     keyarr, indexer, new_indexer \u001b[38;5;241m=\u001b[39m \u001b[38;5;28mself\u001b[39m\u001b[38;5;241m.\u001b[39m_reindex_non_unique(keyarr)\n\u001b[1;32m-> 6114\u001b[0m \u001b[38;5;28;43mself\u001b[39;49m\u001b[38;5;241;43m.\u001b[39;49m\u001b[43m_raise_if_missing\u001b[49m\u001b[43m(\u001b[49m\u001b[43mkeyarr\u001b[49m\u001b[43m,\u001b[49m\u001b[43m \u001b[49m\u001b[43mindexer\u001b[49m\u001b[43m,\u001b[49m\u001b[43m \u001b[49m\u001b[43maxis_name\u001b[49m\u001b[43m)\u001b[49m\n\u001b[0;32m   6116\u001b[0m keyarr \u001b[38;5;241m=\u001b[39m \u001b[38;5;28mself\u001b[39m\u001b[38;5;241m.\u001b[39mtake(indexer)\n\u001b[0;32m   6117\u001b[0m \u001b[38;5;28;01mif\u001b[39;00m \u001b[38;5;28misinstance\u001b[39m(key, Index):\n\u001b[0;32m   6118\u001b[0m     \u001b[38;5;66;03m# GH 42790 - Preserve name from an Index\u001b[39;00m\n",
      "File \u001b[1;32mc:\\Users\\lorra\\AppData\\Local\\Programs\\Python\\Python311\\Lib\\site-packages\\pandas\\core\\indexes\\base.py:6178\u001b[0m, in \u001b[0;36mIndex._raise_if_missing\u001b[1;34m(self, key, indexer, axis_name)\u001b[0m\n\u001b[0;32m   6175\u001b[0m     \u001b[38;5;28;01mraise\u001b[39;00m \u001b[38;5;167;01mKeyError\u001b[39;00m(\u001b[38;5;124mf\u001b[39m\u001b[38;5;124m\"\u001b[39m\u001b[38;5;124mNone of [\u001b[39m\u001b[38;5;132;01m{\u001b[39;00mkey\u001b[38;5;132;01m}\u001b[39;00m\u001b[38;5;124m] are in the [\u001b[39m\u001b[38;5;132;01m{\u001b[39;00maxis_name\u001b[38;5;132;01m}\u001b[39;00m\u001b[38;5;124m]\u001b[39m\u001b[38;5;124m\"\u001b[39m)\n\u001b[0;32m   6177\u001b[0m not_found \u001b[38;5;241m=\u001b[39m \u001b[38;5;28mlist\u001b[39m(ensure_index(key)[missing_mask\u001b[38;5;241m.\u001b[39mnonzero()[\u001b[38;5;241m0\u001b[39m]]\u001b[38;5;241m.\u001b[39munique())\n\u001b[1;32m-> 6178\u001b[0m \u001b[38;5;28;01mraise\u001b[39;00m \u001b[38;5;167;01mKeyError\u001b[39;00m(\u001b[38;5;124mf\u001b[39m\u001b[38;5;124m\"\u001b[39m\u001b[38;5;132;01m{\u001b[39;00mnot_found\u001b[38;5;132;01m}\u001b[39;00m\u001b[38;5;124m not in index\u001b[39m\u001b[38;5;124m\"\u001b[39m)\n",
      "\u001b[1;31mKeyError\u001b[0m: \"['home_club_win_percentage', 'away_club_win_percentage', 'home_club_manager_win_percentage', 'away_club_manager_win_percentage', 'home_club_win_percentage_with_referee', 'away_club_win_percentage_with_referee', 'score_away_team', 'score_home_team', 'transfer_home_team', 'transfer_away_team', 'home_club_avg_goals_per_game_updated', 'home_club_avg_assists_per_game_updated', 'home_club_avg_yellow_cards_per_game_updated', 'home_club_avg_red_cards_per_game_updated', 'away_club_avg_goals_per_game_updated', 'away_club_avg_assists_per_game_updated', 'away_club_avg_yellow_cards_per_game_updated', 'away_club_avg_red_cards_per_game_updated'] not in index\""
     ]
    }
   ],
   "source": [
    "transformer = SoccerDataTransformer(data_path=\"./data/matchs_2013_2022.csv\", limit_date='2024')\n",
    "new_data = transformer.transform_data()\n",
    "new_data.head()"
   ]
  },
  {
   "cell_type": "code",
   "execution_count": null,
   "metadata": {},
   "outputs": [],
   "source": [
    "import seaborn as sns\n",
    "\n",
    "def plot_correlation_matrix(data):\n",
    "    correlation_matrix = data.corr()\n",
    "    plt.figure(figsize=(20, 8))\n",
    "    sns.heatmap(correlation_matrix, annot=True, cmap='coolwarm', fmt=\".2f\")\n",
    "    plt.show()\n",
    "\n",
    "data.drop('date', inplace=True, axis=1)\n",
    "\n",
    "corr_mat = pd.DataFrame(data)\n",
    "corr_mat['results'] = data['results']\n",
    "plot_correlation_matrix(corr_mat)"
   ]
  },
  {
   "cell_type": "markdown",
   "metadata": {},
   "source": [
    "Dropping the most useless columns"
   ]
  },
  {
   "cell_type": "code",
   "execution_count": null,
   "metadata": {},
   "outputs": [],
   "source": [
    "correlation_matrix = data.corr()\n",
    "\n",
    "columns_to_drop = correlation_matrix.columns[correlation_matrix['results'].abs() <= 0.2]\n",
    "print(columns_to_drop)\n",
    "\n",
    "data = data.drop(columns=columns_to_drop)\n",
    "for col in columns_to_drop:\n",
    "    features.remove(col) if col in features else None\n",
    "features"
   ]
  },
  {
   "cell_type": "code",
   "execution_count": 20,
   "metadata": {},
   "outputs": [],
   "source": [
    "X_train, X_test, y_train, y_test = train_test_split(data[features], data['results'], test_size=0.2, random_state=42)"
   ]
  },
  {
   "cell_type": "code",
   "execution_count": 21,
   "metadata": {},
   "outputs": [],
   "source": [
    "X_train = SimpleImputer(strategy='mean').fit_transform(X_train)\n",
    "X_test = SimpleImputer(strategy='mean').fit_transform(X_test)"
   ]
  },
  {
   "cell_type": "code",
   "execution_count": 22,
   "metadata": {},
   "outputs": [],
   "source": [
    "scaler = StandardScaler()\n",
    "X_train = scaler.fit_transform(X_train)\n",
    "X_test = scaler.transform(X_test)"
   ]
  },
  {
   "cell_type": "markdown",
   "metadata": {},
   "source": [
    "## Model Selection and Training"
   ]
  },
  {
   "cell_type": "code",
   "execution_count": 23,
   "metadata": {},
   "outputs": [
    {
     "name": "stdout",
     "output_type": "stream",
     "text": [
      "\tAccuracy with LogisticRegression  :  0.618\n",
      "\tAccuracy with NBayes  :  0.548\n",
      "\tAccuracy with LDA  :  0.618\n",
      "\tAccuracy with QDA  :  0.587\n",
      "\tAccuracy with KNN  :  0.507\n",
      "\tAccuracy with SVM linear  :  0.614\n",
      "\tAccuracy with SVM rbf  :  0.501\n",
      "\tAccuracy with SVM sigmoid  :  0.482\n",
      "\tAccuracy with RandomForest  :  0.57\n",
      "\tAccuracy with DecisionTree  :  0.487\n"
     ]
    }
   ],
   "source": [
    "# from fonctions_tests import test_data, test_data_before_2023, get_accuracy_with_model\n",
    "\n",
    "# Define the names of the classifications method\n",
    "names = [\"LogisticRegression\",\n",
    "         \"NBayes\",\n",
    "         \"LDA\",\n",
    "         \"QDA\",\n",
    "         \"KNN\",\n",
    "          \"SVM linear\",\n",
    "         \"SVM rbf\",\n",
    "         \"SVM sigmoid\",\n",
    "         \"RandomForest\",\n",
    "         \"DecisionTree\"]\n",
    "\n",
    "# Define the classifiers\n",
    "classifiers = [LogisticRegression(C=1e5),\n",
    "               GaussianNB(),\n",
    "               DA.LinearDiscriminantAnalysis(),\n",
    "               DA.QuadraticDiscriminantAnalysis(),\n",
    "               KNeighborsClassifier(n_neighbors=5),\n",
    "                SVC(kernel='linear', C=1.0),\n",
    "               SVC(kernel='rbf', gamma = 1e-4),\n",
    "               SVC(kernel='sigmoid', gamma = 1e-4),\n",
    "               RandomForestClassifier(),\n",
    "               DecisionTreeClassifier()]\n",
    "\n",
    "scores = []\n",
    "scores_before = []\n",
    "\n",
    "# Loop through all different classfication methods\n",
    "for name, clf in zip(names, classifiers):\n",
    "    \n",
    "    clf.fit(X_train, y_train.values.ravel())\n",
    "    y_pred = clf.predict(X_test)\n",
    "    accuracy = accuracy_score(y_test, y_pred)\n",
    "    scores.append(accuracy)\n",
    "\n",
    "    print(\"\\tAccuracy with\", name, \" : \", round(accuracy,3))\n",
    "\n",
    "# print(\"test with all data before 2022, to predict the 2022 season\")\n",
    "# for name, clf in zip(names, classifiers):\n",
    "#     accuracy = test_data_before_2023(data, model=clf)\n",
    "#     scores_before.append(accuracy)\n",
    "#     print(\"\\tAccuracy with \", name, \" : \", round(accuracy,3))"
   ]
  },
  {
   "cell_type": "code",
   "execution_count": 24,
   "metadata": {},
   "outputs": [
    {
     "data": {
      "image/png": "[encoded data removed]",
      "text/plain": [
       "<Figure size 640x480 with 1 Axes>"
      ]
     },
     "metadata": {},
     "output_type": "display_data"
    }
   ],
   "source": [
    "X_axis = np.arange(len(names)) \n",
    "\n",
    "plt.bar(X_axis - 0.2, scores, 0.4, label = 'random data split')\n",
    "# plt.bar(X_axis + 0.2, scores_before, 0.4, label = 'before 2022 split')\n",
    "  \n",
    "plt.xticks(X_axis, names, rotation=90) \n",
    "plt.xlabel(\"models\") \n",
    "plt.ylabel(\"accuracy\") \n",
    "plt.title(\"Accuracy for every model\") \n",
    "plt.legend()\n",
    "plt.show()"
   ]
  },
  {
   "cell_type": "markdown",
   "metadata": {},
   "source": [
    "We can see that the bests models are : SVM linear, Logistic regression, and LDA. Therefore, we'll try to optimize the best one : SVM Linear.\n",
    "\n",
    "Let's now find some hyperparameters for this model ! "
   ]
  },
  {
   "cell_type": "code",
   "execution_count": 25,
   "metadata": {},
   "outputs": [
    {
     "name": "stdout",
     "output_type": "stream",
     "text": [
      "Index(['home_club_win_percentage', 'away_club_win_percentage',\n",
      "       'home_club_manager_win_percentage', 'away_club_manager_win_percentage',\n",
      "       'home_club_win_percentage_with_referee',\n",
      "       'away_club_win_percentage_with_referee', 'score_away_team',\n",
      "       'score_home_team', 'transfer_away_team',\n",
      "       'home_club_avg_goals_per_game_updated',\n",
      "       'home_club_avg_assists_per_game_updated',\n",
      "       'away_club_avg_goals_per_game_updated',\n",
      "       'away_club_avg_assists_per_game_updated', 'results'],\n",
      "      dtype='object')\n",
      "fini with c =  0.01\n",
      "fini with c =  0.1\n",
      "fini with c =  1\n",
      "fini with c =  10\n",
      "fini with c =  100\n",
      "\n",
      "Accuracies :  [(0.01, 0.618872549019608), (0.1, 0.6139705882352943), (1, 0.6139705882352943), (10, 0.6151960784313726), (100, 0.6151960784313726)]\n"
     ]
    },
    {
     "data": {
      "text/plain": [
       "[<matplotlib.lines.Line2D at 0x207b7ab2350>]"
      ]
     },
     "execution_count": 25,
     "metadata": {},
     "output_type": "execute_result"
    },
    {
     "data": {
      "image/png": "[encoded data removed]",
      "text/plain": [
       "<Figure size 640x480 with 1 Axes>"
      ]
     },
     "metadata": {},
     "output_type": "display_data"
    }
   ],
   "source": [
    "cv = 7\n",
    "batch_size = 0.6\n",
    "all_accuracies = {}\n",
    "accuracies = []\n",
    "sizes = [0.01, 0.1, 1, 10, 100]\n",
    "\n",
    "print(data.columns)\n",
    "\n",
    "for c in sizes:\n",
    "    for i in range(cv):\n",
    "        clf = SVC(kernel='linear', C=c)\n",
    "        clf.fit(X_train, y_train.values.ravel())\n",
    "        y_pred = clf.predict(X_test)\n",
    "        accuracy = accuracy_score(y_test, y_pred)\n",
    "        if(c not in all_accuracies): all_accuracies[c] = []\n",
    "        all_accuracies[c].append(accuracy)\n",
    "        # print(\"\\tAccuracy with \", name, \" : \", round(accuracy,3))\n",
    "    accuracies.append(np.mean(all_accuracies[c]))\n",
    "    print('fini with c = ', c)\n",
    "\n",
    "print(\"\\nAccuracies : \", list(zip(sizes, accuracies)))\n",
    "\n",
    "plt.plot(np.log10(sizes), accuracies)"
   ]
  },
  {
   "cell_type": "code",
   "execution_count": 28,
   "metadata": {},
   "outputs": [
    {
     "name": "stdout",
     "output_type": "stream",
     "text": [
      "Score en entrainenement : 0.6042305334150828\n",
      "Score en test : 0.6139705882352942\n"
     ]
    }
   ],
   "source": [
    "model = SVC(kernel='linear', C=1.0)\n",
    "\n",
    "model.fit(X_train, y_train)\n",
    "\n",
    "y_pred_train = model.predict(X_train)\n",
    "y_pred_test = model.predict(X_test)\n",
    "\n",
    "print(f\"Score en entrainenement : {accuracy_score(y_true=y_train, y_pred=y_pred_train)}\")\n",
    "print(f\"Score en test : {accuracy_score(y_true=y_test, y_pred=y_pred_test)}\")"
   ]
  },
  {
   "cell_type": "code",
   "execution_count": null,
   "metadata": {},
   "outputs": [],
   "source": [
    "matchs_2023 = pd.read_csv(\"data\\match_2023.csv\")\n",
    "# J’applique le même traitement que mon fichier entraînement\n",
    "\n",
    "\n",
    "final_X_test.tail()"
   ]
  },
  {
   "cell_type": "code",
   "execution_count": null,
   "metadata": {},
   "outputs": [],
   "source": [
    "y_final_prediction = model.predict(final_X_test)\n",
    "print(y_final_prediction)"
   ]
  }
 ],
 "metadata": {
  "kernelspec": {
   "display_name": "Python 3",
   "language": "python",
   "name": "python3"
  },
  "language_info": {
   "codemirror_mode": {
    "name": "ipython",
    "version": 3
   },
   "file_extension": ".py",
   "mimetype": "text/x-python",
   "name": "python",
   "nbconvert_exporter": "python",
   "pygments_lexer": "ipython3",
   "version": "3.11.4"
  }
 },
 "nbformat": 4,
 "nbformat_minor": 2
}
