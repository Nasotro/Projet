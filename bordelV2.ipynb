{
 "cells": [
  {
   "cell_type": "code",
   "execution_count": 8,
   "metadata": {},
   "outputs": [
    {
     "name": "stdout",
     "output_type": "stream",
     "text": [
      "[[ 77  73  87]\n",
      " [ 53  51 100]\n",
      " [ 65  89 221]]\n",
      "              precision    recall  f1-score   support\n",
      "\n",
      "          -1       0.39      0.32      0.36       237\n",
      "           0       0.24      0.25      0.24       204\n",
      "           1       0.54      0.59      0.56       375\n",
      "\n",
      "    accuracy                           0.43       816\n",
      "   macro avg       0.39      0.39      0.39       816\n",
      "weighted avg       0.42      0.43      0.42       816\n",
      "\n",
      "0.42769607843137253\n",
      "R² score: -0.5679632266606711\n"
     ]
    }
   ],
   "source": [
    "import pandas as pd\n",
    "from sklearn.model_selection import train_test_split\n",
    "from sklearn.preprocessing import StandardScaler\n",
    "from sklearn.ensemble import RandomForestClassifier\n",
    "from sklearn.metrics import classification_report, confusion_matrix\n",
    "from sklearn.metrics import r2_score\n",
    "\n",
    "data = pd.read_csv(\"data\\matchs_2013_2022.csv\", sep=\",\")\n",
    "dataAPredire = pd.read_csv(\"data\\match_2023.csv\", sep=\",\")\n",
    "y = data[\"results\"]\n",
    "X = data[[\"home_club_id\", \"away_club_id\"]]\n",
    "# print(X.head(), y.head())\n",
    "\n",
    "\n",
    "X_train, X_test, y_train, y_test = train_test_split(X, y, test_size=0.2, random_state=42)\n",
    "\n",
    "# Scaling the data\n",
    "scaler = StandardScaler()\n",
    "X_train = scaler.fit_transform(X_train)\n",
    "X_test = scaler.transform(X_test)\n",
    "\n",
    "# Model selection\n",
    "model = RandomForestClassifier()\n",
    "\n",
    "# Model training\n",
    "model.fit(X_train, y_train)\n",
    "\n",
    "# Model evaluation\n",
    "y_pred = model.predict(X_test)\n",
    "print(confusion_matrix(y_test, y_pred))\n",
    "print(classification_report(y_test, y_pred))\n",
    "print(model.score(X_test, y_test))\n",
    "\n",
    "r2 = r2_score(y_test, y_pred)\n",
    "print(f'R² score: {r2}')"
   ]
  }
 ],
 "metadata": {
  "kernelspec": {
   "display_name": "Python 3",
   "language": "python",
   "name": "python3"
  },
  "language_info": {
   "codemirror_mode": {
    "name": "ipython",
    "version": 3
   },
   "file_extension": ".py",
   "mimetype": "text/x-python",
   "name": "python",
   "nbconvert_exporter": "python",
   "pygments_lexer": "ipython3",
   "version": "3.11.4"
  }
 },
 "nbformat": 4,
 "nbformat_minor": 2
}
